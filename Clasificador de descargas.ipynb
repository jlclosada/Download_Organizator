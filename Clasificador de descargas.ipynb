{
 "cells": [
  {
   "cell_type": "code",
   "execution_count": 2,
   "id": "01744e28",
   "metadata": {},
   "outputs": [
    {
     "name": "stdout",
     "output_type": "stream",
     "text": [
      "D:/descargas\n"
     ]
    }
   ],
   "source": [
    "downloadsFolder = \"D:/descargas\"\n",
    "if"
   ]
  },
  {
   "cell_type": "code",
   "execution_count": 3,
   "id": "4ee5899a",
   "metadata": {},
   "outputs": [],
   "source": [
    "list = ['Pictures', 'Videos', 'Docs']"
   ]
  },
  {
   "cell_type": "code",
   "execution_count": 4,
   "id": "e77ba97b",
   "metadata": {},
   "outputs": [],
   "source": [
    "from PIL import Image\n",
    "import os"
   ]
  },
  {
   "cell_type": "code",
   "execution_count": 22,
   "id": "c6444907",
   "metadata": {},
   "outputs": [
    {
     "name": "stdout",
     "output_type": "stream",
     "text": [
      "El directorio 'D:/descargas/Pictures' ya existe. No se creará de nuevo\n",
      "El directorio 'D:/descargas/Videos' ya existe. No se creará de nuevo\n",
      "El directorio 'D:/descargas/Docs' ya existe. No se creará de nuevo\n",
      "El directorio 'D:/descargas/Other' ya existe. No se creará de nuevo\n"
     ]
    }
   ],
   "source": [
    "path_list = []\n",
    "for element in list:\n",
    "    path = downloadsFolder + \"/\" + element\n",
    "    if os.path.exists(path):\n",
    "        print(f\"El directorio '{path}' ya existe. No se creará de nuevo\")\n",
    "        path_list.append(path)\n",
    "    else:\n",
    "        os.mkdir(path)\n",
    "        path_list.append(path)"
   ]
  },
  {
   "cell_type": "code",
   "execution_count": 55,
   "id": "fc8a668f",
   "metadata": {},
   "outputs": [],
   "source": [
    "picturesFolder = path_list[0]\n",
    "videosFolder = path_list[1]\n",
    "docsFolder = path_list[2]"
   ]
  },
  {
   "cell_type": "code",
   "execution_count": 54,
   "id": "f010f8e7",
   "metadata": {},
   "outputs": [
    {
     "name": "stdout",
     "output_type": "stream",
     "text": [
      "Se han movido 1 elementos a la carpeta Pictures:\n",
      "Se han movido 0 elementos a la carpeta Videos:\n",
      "Se han movido 0 elementos a la carpeta Docs:\n"
     ]
    }
   ],
   "source": [
    "if __name__ == '__main__':\n",
    "    \n",
    "    picture_list = []\n",
    "    videos_list = []\n",
    "    docs_list = []\n",
    "    \n",
    "    for filename in os.listdir(downloadsFolder):\n",
    "        name, extension = os.path.splitext(downloadsFolder + \"/\" + filename)\n",
    "        \n",
    "        if extension in [\".jpg\", \".jpeg\", \".png\"]:\n",
    "            picture = Image.open(downloadsFolder + \"/\" +  filename)\n",
    "            picture_list.append(picture)\n",
    "            picture.save(picturesFolder + \"/\" + filename)\n",
    "            os.remove(downloadsFolder + \"/\" + filename)\n",
    "        count_0 = len(picture_list)\n",
    "            \n",
    "        if extension in [\".mp4\", \".avi\", \".mov\"]:\n",
    "            video = filename\n",
    "            os.rename(downloadsFolder +\"/\"+ filename, videosFolder + \"/\" + filename)\n",
    "            videos_list.append(video)\n",
    "        count_1 = (len(videos_list))\n",
    "        \n",
    "            \n",
    "        if extension in [\".pdf\", \".doc\", \".docx\"]:\n",
    "            doc = filename\n",
    "            os.rename(downloadsFolder +\"/\"+ filename, docsFolder + \"/\" + filename)\n",
    "            docs_list.append(doc)\n",
    "        count_2 = (len(docs_list))\n",
    "            \n",
    "            \n",
    "    print(f\"Se han movido {count_0} elementos a la carpeta Pictures:\")\n",
    "    print(f\"Se han movido {count_1} elementos a la carpeta Videos:\")\n",
    "    print(f\"Se han movido {count_2} elementos a la carpeta Docs:\")"
   ]
  },
  {
   "cell_type": "code",
   "execution_count": null,
   "id": "93d20bc7",
   "metadata": {},
   "outputs": [],
   "source": []
  }
 ],
 "metadata": {
  "kernelspec": {
   "display_name": "Python 3 (ipykernel)",
   "language": "python",
   "name": "python3"
  },
  "language_info": {
   "codemirror_mode": {
    "name": "ipython",
    "version": 3
   },
   "file_extension": ".py",
   "mimetype": "text/x-python",
   "name": "python",
   "nbconvert_exporter": "python",
   "pygments_lexer": "ipython3",
   "version": "3.8.13"
  }
 },
 "nbformat": 4,
 "nbformat_minor": 5
}
